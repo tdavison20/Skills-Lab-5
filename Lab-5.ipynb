{
 "cells": [
  {
   "cell_type": "markdown",
   "id": "white-jackson",
   "metadata": {},
   "source": [
    "## Skills Lab 5 Program"
   ]
  },
  {
   "cell_type": "code",
   "execution_count": 3,
   "id": "pretty-headquarters",
   "metadata": {},
   "outputs": [
    {
     "name": "stdin",
     "output_type": "stream",
     "text": [
      "Enter a name:  teresa\n",
      "Enter the year you were born:  2022\n"
     ]
    },
    {
     "name": "stdout",
     "output_type": "stream",
     "text": [
      "The year cannot be in the future, try again.\n"
     ]
    },
    {
     "name": "stdin",
     "output_type": "stream",
     "text": [
      "Enter the year you were born:  2003\n"
     ]
    },
    {
     "name": "stdout",
     "output_type": "stream",
     "text": [
      "teresa , you are 18 years old\n"
     ]
    }
   ],
   "source": [
    "name = input(\"Enter a name: \")\n",
    "while True:\n",
    "    try:\n",
    "        year = int(input(\"Enter the year you were born: \"))\n",
    "        if(year > 2021):\n",
    "            raise ValueError\n",
    "        break\n",
    "    except ValueError:\n",
    "        print(\"The year cannot be in the future, try again.\")\n",
    "age = 2021 - year\n",
    "print(name, \", you are\", age, \"years old\")"
   ]
  },
  {
   "cell_type": "code",
   "execution_count": null,
   "id": "coupled-citizenship",
   "metadata": {},
   "outputs": [],
   "source": []
  }
 ],
 "metadata": {
  "kernelspec": {
   "display_name": "Python 3",
   "language": "python",
   "name": "python3"
  },
  "language_info": {
   "codemirror_mode": {
    "name": "ipython",
    "version": 3
   },
   "file_extension": ".py",
   "mimetype": "text/x-python",
   "name": "python",
   "nbconvert_exporter": "python",
   "pygments_lexer": "ipython3",
   "version": "3.7.7"
  }
 },
 "nbformat": 4,
 "nbformat_minor": 5
}
