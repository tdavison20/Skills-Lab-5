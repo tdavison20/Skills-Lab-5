{
 "cells": [
  {
   "cell_type": "markdown",
   "id": "solved-warrior",
   "metadata": {},
   "source": [
    "## Skills Lab 5 Program"
   ]
  },
  {
   "cell_type": "code",
   "execution_count": null,
   "id": "interim-moldova",
   "metadata": {},
   "outputs": [],
   "source": [
    "name = input(\"Enter a name: \")\n",
    "def ValueError():\n",
    "    print(\"Your date was not formatted correctly or not a legal date, try again.\")\n",
    "def separateDate(dateEntered):\n",
    "    \n",
    "    month = \"\"\n",
    "    month = month + dateEntered[0] + dateEntered[1]\n",
    "    day = \"\"\n",
    "    day = day + dateEntered[3] + dateEntered[4]\n",
    "    year = \"\"\n",
    "    year = year + dateEntered[6] + dateEntered[7] + dateEntered[8] + dateEntered[9]\n",
    "    month = int(month)\n",
    "    day = int(day)\n",
    "    year = int(year)\n",
    "    return day, month, year\n",
    "\n",
    "date = input(\"Enter your birthdate (mm/dd/yyyy): \")\n",
    "dayBorn, monthBorn, yearBorn = separateDate(date)\n",
    "\n",
    "\n",
    "date = input(\"Enter today's date (mm/dd/yyyy): \")\n",
    "currDay, currMonth, currYear = separateDate(date)\n",
    "        \n",
    "print(\"Computing your age...\")\n",
    "if(monthBorn == currMonth and dayBorn == currDay):\n",
    "    ageYears = currYear - yearBorn\n",
    "    print(\"Happy Birthday,\", name, \"you are exactly\", ageYears, \"years old.\")\n",
    "elif(monthBorn < currMonth or (monthBorn == currMonth and dayBorn < currDay)):\n",
    "    ageYears = currYear - yearBorn\n",
    "    print(name, \"you are\", ageYears, \"years old and have had a birthday this year\")\n",
    "else:\n",
    "    ageYears = currYear - yearBorn - 1\n",
    "    print(name, \"you are\", ageYears, \"years old and have not had a birthday yet this year\")\n"
   ]
  },
  {
   "cell_type": "code",
   "execution_count": null,
   "id": "structural-outline",
   "metadata": {},
   "outputs": [],
   "source": []
  }
 ],
 "metadata": {
  "kernelspec": {
   "display_name": "Python 3",
   "language": "python",
   "name": "python3"
  },
  "language_info": {
   "codemirror_mode": {
    "name": "ipython",
    "version": 3
   },
   "file_extension": ".py",
   "mimetype": "text/x-python",
   "name": "python",
   "nbconvert_exporter": "python",
   "pygments_lexer": "ipython3",
   "version": "3.7.7"
  }
 },
 "nbformat": 4,
 "nbformat_minor": 5
}
